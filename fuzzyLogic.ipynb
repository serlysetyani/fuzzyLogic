{
  "nbformat": 4,
  "nbformat_minor": 0,
  "metadata": {
    "colab": {
      "name": "Copy of fuzzyLogic.ipynb",
      "provenance": [],
      "collapsed_sections": []
    },
    "kernelspec": {
      "name": "python3",
      "display_name": "Python 3"
    },
    "language_info": {
      "name": "python"
    }
  },
  "cells": [
    {
      "cell_type": "code",
      "metadata": {
        "id": "xKeRrsJFwM0u"
      },
      "source": [
        "# library\n",
        "import pandas as pd\n",
        "import numpy as np\n",
        "import matplotlib.pyplot as plt"
      ],
      "execution_count": null,
      "outputs": []
    },
    {
      "cell_type": "code",
      "metadata": {
        "colab": {
          "base_uri": "https://localhost:8080/",
          "height": 415
        },
        "id": "V9CyAhZkwX90",
        "outputId": "2c52f532-8dd2-4f04-a5c2-5edd45bcc67b"
      },
      "source": [
        "data = pd.read_excel(\"https://github.com/serlysetyani/fuzzyLogic/blob/main/restoran.xlsx?raw=true\")\n",
        "data"
      ],
      "execution_count": null,
      "outputs": [
        {
          "output_type": "execute_result",
          "data": {
            "text/html": [
              "<div>\n",
              "<style scoped>\n",
              "    .dataframe tbody tr th:only-of-type {\n",
              "        vertical-align: middle;\n",
              "    }\n",
              "\n",
              "    .dataframe tbody tr th {\n",
              "        vertical-align: top;\n",
              "    }\n",
              "\n",
              "    .dataframe thead th {\n",
              "        text-align: right;\n",
              "    }\n",
              "</style>\n",
              "<table border=\"1\" class=\"dataframe\">\n",
              "  <thead>\n",
              "    <tr style=\"text-align: right;\">\n",
              "      <th></th>\n",
              "      <th>id</th>\n",
              "      <th>pelayanan</th>\n",
              "      <th>makanan</th>\n",
              "    </tr>\n",
              "  </thead>\n",
              "  <tbody>\n",
              "    <tr>\n",
              "      <th>0</th>\n",
              "      <td>1</td>\n",
              "      <td>58</td>\n",
              "      <td>7</td>\n",
              "    </tr>\n",
              "    <tr>\n",
              "      <th>1</th>\n",
              "      <td>2</td>\n",
              "      <td>54</td>\n",
              "      <td>1</td>\n",
              "    </tr>\n",
              "    <tr>\n",
              "      <th>2</th>\n",
              "      <td>3</td>\n",
              "      <td>98</td>\n",
              "      <td>2</td>\n",
              "    </tr>\n",
              "    <tr>\n",
              "      <th>3</th>\n",
              "      <td>4</td>\n",
              "      <td>52</td>\n",
              "      <td>4</td>\n",
              "    </tr>\n",
              "    <tr>\n",
              "      <th>4</th>\n",
              "      <td>5</td>\n",
              "      <td>11</td>\n",
              "      <td>4</td>\n",
              "    </tr>\n",
              "    <tr>\n",
              "      <th>...</th>\n",
              "      <td>...</td>\n",
              "      <td>...</td>\n",
              "      <td>...</td>\n",
              "    </tr>\n",
              "    <tr>\n",
              "      <th>95</th>\n",
              "      <td>96</td>\n",
              "      <td>30</td>\n",
              "      <td>1</td>\n",
              "    </tr>\n",
              "    <tr>\n",
              "      <th>96</th>\n",
              "      <td>97</td>\n",
              "      <td>25</td>\n",
              "      <td>3</td>\n",
              "    </tr>\n",
              "    <tr>\n",
              "      <th>97</th>\n",
              "      <td>98</td>\n",
              "      <td>27</td>\n",
              "      <td>10</td>\n",
              "    </tr>\n",
              "    <tr>\n",
              "      <th>98</th>\n",
              "      <td>99</td>\n",
              "      <td>8</td>\n",
              "      <td>6</td>\n",
              "    </tr>\n",
              "    <tr>\n",
              "      <th>99</th>\n",
              "      <td>100</td>\n",
              "      <td>11</td>\n",
              "      <td>8</td>\n",
              "    </tr>\n",
              "  </tbody>\n",
              "</table>\n",
              "<p>100 rows × 3 columns</p>\n",
              "</div>"
            ],
            "text/plain": [
              "     id  pelayanan  makanan\n",
              "0     1         58        7\n",
              "1     2         54        1\n",
              "2     3         98        2\n",
              "3     4         52        4\n",
              "4     5         11        4\n",
              "..  ...        ...      ...\n",
              "95   96         30        1\n",
              "96   97         25        3\n",
              "97   98         27       10\n",
              "98   99          8        6\n",
              "99  100         11        8\n",
              "\n",
              "[100 rows x 3 columns]"
            ]
          },
          "metadata": {
            "tags": []
          },
          "execution_count": 51
        }
      ]
    },
    {
      "cell_type": "code",
      "metadata": {
        "id": "U6T2PuqIy59A"
      },
      "source": [
        "# function membership makanan\n",
        "def poorFood(f):\n",
        "    poorFood, goodFood = 4, 5\n",
        "\n",
        "    if f <= poorFood:\n",
        "        return 1\n",
        "    elif f > poorFood:\n",
        "        return 0\n",
        "    elif f > poorFood and f <= goodFood:\n",
        "        return ((goodFood - f) / (goodFood - poorFood))\n",
        "\n",
        "\n",
        "def goodFood(f):\n",
        "    poorFood, goodFood1, goodFood2, excellentFood = 4, 5, 7, 8\n",
        "\n",
        "    if f >= goodFood1 and f <= goodFood2:\n",
        "        return 1\n",
        "    elif f < goodFood1 or f > goodFood2:\n",
        "        return 0\n",
        "    elif f > poorFood and f < goodFood1:\n",
        "        return ((f - poorFood) / (goodFood1 - poorFood))\n",
        "    elif f > goodFood2 and f < excellentFood:\n",
        "        return ((goodFood2 - f) / (excellentFood - goodFood2))\n",
        "\n",
        "\n",
        "def excellentFood(f):\n",
        "    goodFood2, excellentFood = 7, 8\n",
        "\n",
        "    if f >= excellentFood:\n",
        "        return 1\n",
        "    elif f < excellentFood:\n",
        "        return 0\n",
        "    elif f > goodFood2 and f <= excellentFood:\n",
        "        return ((f - goodFood2) / (excellentFood - goodFood2))\n"
      ],
      "execution_count": null,
      "outputs": []
    },
    {
      "cell_type": "code",
      "metadata": {
        "id": "tZYS8j9UgbMF",
        "colab": {
          "base_uri": "https://localhost:8080/",
          "height": 317
        },
        "outputId": "60f3d6f5-c9da-4670-a2a6-2b12e5492e4a"
      },
      "source": [
        "# plot grafik membership makanan\n",
        "\n",
        "x = [i for i in range(11)]\n",
        "\n",
        "ypoorF = [poorFood(i) for i in x]\n",
        "ygoodF = [goodFood(i) for i in x]\n",
        "yexcellentF = [excellentFood(i) for i in x]\n",
        "\n",
        "plt.figure(figsize=(10,4))\n",
        "plt.title('Membership Makanan',fontsize = 20) \n",
        "plt.plot(x, ypoorF, label = 'Poor Food')\n",
        "plt.plot(x, ygoodF, label = 'Good Food')\n",
        "plt.plot(x, yexcellentF, label = 'Excellent Food')\n",
        "plt.xlabel('Nilai')\n",
        "plt.ylabel(r'$\\mu\\ (x)$')\n",
        "plt.legend()"
      ],
      "execution_count": null,
      "outputs": [
        {
          "output_type": "execute_result",
          "data": {
            "text/plain": [
              "<matplotlib.legend.Legend at 0x7f692a848090>"
            ]
          },
          "metadata": {
            "tags": []
          },
          "execution_count": 53
        },
        {
          "output_type": "display_data",
          "data": {
            "image/png": "[encoded data removed]",
            "text/plain": [
              "<Figure size 720x288 with 1 Axes>"
            ]
          },
          "metadata": {
            "tags": [],
            "needs_background": "light"
          }
        }
      ]
    },
    {
      "cell_type": "code",
      "metadata": {
        "id": "JkdMYLVFAiAu"
      },
      "source": [
        "# fuction membership pelayanan\n",
        "def PoorService(x):\n",
        "  poorService = 50\n",
        "  goodService1 = 51\n",
        "\n",
        "  if x <= poorService:\n",
        "    return 1;\n",
        "  elif x > poorService:\n",
        "    return 0\n",
        "  elif x >= poorService and x < goodService1:\n",
        "    return (goodService1 - x) / (goodService1 - poorService)\n",
        "\n",
        "def GoodService(x):\n",
        "  poorService = 50\n",
        "  goodService1 = 51\n",
        "  goodService2 = 80\n",
        "  excellentService = 81\n",
        "\n",
        "  if x >= goodService1 and x <= goodService2:\n",
        "    return 1\n",
        "  elif x < goodService1 or x > goodService2:\n",
        "    return 0\n",
        "  elif x > poorService and x <= goodService1:\n",
        "    return (x - poorService) / (goodService1 - poorService)\n",
        "  elif x >= goodService2 and x < excellentService:\n",
        "    return (excellentService - x) / (excellentService - goodService2)\n",
        "\n",
        "def ExcellentService(x):\n",
        "  goodService2 = 80\n",
        "  excellentService = 81\n",
        "\n",
        "  if x >= excellentService:\n",
        "    return 1\n",
        "  elif x < excellentService:\n",
        "    return 0\n",
        "  elif x > goodService2 and x <= excellentService:\n",
        "    return (x - goodService2) / (excellentService - goodService2)"
      ],
      "execution_count": null,
      "outputs": []
    },
    {
      "cell_type": "code",
      "metadata": {
        "id": "QI0ry3URfIMA",
        "colab": {
          "base_uri": "https://localhost:8080/",
          "height": 317
        },
        "outputId": "34b56ef1-f7f4-46a8-d872-8d83f2abc626"
      },
      "source": [
        "# plot grafik membership pelayanan\n",
        "\n",
        "x = [i for i in range(101)]\n",
        "\n",
        "ypoorS = [PoorService(i) for i in x]\n",
        "ygoodS = [GoodService(i) for i in x]\n",
        "yexcellentS = [ExcellentService(i) for i in x]\n",
        "\n",
        "plt.figure(figsize=(10,4))\n",
        "plt.title('Membership Pelayanan',fontsize = 20) \n",
        "plt.plot(x, ypoorS, label = 'Poor Service')\n",
        "plt.plot(x, ygoodS, label = 'Good Service')\n",
        "plt.plot(x, yexcellentS, label = 'Excellent Service')\n",
        "plt.xlabel('Nilai')\n",
        "plt.ylabel(r'$\\mu\\ (x)$')\n",
        "plt.legend()"
      ],
      "execution_count": null,
      "outputs": [
        {
          "output_type": "execute_result",
          "data": {
            "text/plain": [
              "<matplotlib.legend.Legend at 0x7f692a7d9750>"
            ]
          },
          "metadata": {
            "tags": []
          },
          "execution_count": 55
        },
        {
          "output_type": "display_data",
          "data": {
            "image/png": "[encoded data removed]",
            "text/plain": [
              "<Figure size 720x288 with 1 Axes>"
            ]
          },
          "metadata": {
            "tags": [],
            "needs_background": "light"
          }
        }
      ]
    },
    {
      "cell_type": "code",
      "metadata": {
        "id": "95ro0uapjS9j"
      },
      "source": [
        "# function fuzzifikasi\n",
        "def fuzzificationFood(foodValue):\n",
        "  foodSet = []\n",
        "  foodSet.append(poorFood(foodValue))\n",
        "  foodSet.append(goodFood(foodValue))\n",
        "  foodSet.append(excellentFood(foodValue))\n",
        "  return foodSet\n",
        "\n",
        "def fuzzificationService(serviceValue):\n",
        "  serviceSet = []\n",
        "  serviceSet.append(PoorService(serviceValue))\n",
        "  serviceSet.append(GoodService(serviceValue))\n",
        "  serviceSet.append(ExcellentService(serviceValue))\n",
        "  return serviceSet\n"
      ],
      "execution_count": null,
      "outputs": []
    },
    {
      "cell_type": "code",
      "metadata": {
        "id": "YeiBlAo2RYsR"
      },
      "source": [
        "# fungsi inferensi\n",
        "def inference(serviceSet, foodSet):\n",
        "  inferenceSet = []\n",
        "  recommendedSet, moderatelySet, notRecommendedSet = [], [], []\n",
        "\n",
        "  recommendedSet.append(min(foodSet[2], serviceSet[2]))\n",
        "  recommendedSet.append(min(foodSet[2], serviceSet[1]))\n",
        "  recommendedSet.append(min(foodSet[1], serviceSet[2]))\n",
        "  \n",
        "\n",
        "  moderatelySet.append(min(foodSet[1], serviceSet[1]))\n",
        "  moderatelySet.append(min(foodSet[2], serviceSet[0]))\n",
        "\n",
        "  notRecommendedSet.append(min(foodSet[0], serviceSet[0]))\n",
        "  notRecommendedSet.append(min(foodSet[1], serviceSet[0]))\n",
        "  notRecommendedSet.append(min(foodSet[0], serviceSet[1]))\n",
        "  notRecommendedSet.append(min(foodSet[0], serviceSet[2]))\n",
        "\n",
        "  inferenceSet.append(max(recommendedSet))\n",
        "  inferenceSet.append(max(moderatelySet))\n",
        "  inferenceSet.append(max(notRecommendedSet))\n",
        "  \n",
        "  return inferenceSet"
      ],
      "execution_count": null,
      "outputs": []
    },
    {
      "cell_type": "code",
      "metadata": {
        "id": "vT8e3KxLfCZT"
      },
      "source": [
        "# fungsi defuzzifikasi\n",
        "def defuzzification(inferenceSet):\n",
        "  multiplier = (inferenceSet[0]*100) + (inferenceSet[1]*80) + (inferenceSet[2]*50) \n",
        "  divider = inferenceSet[0] + inferenceSet[1] + inferenceSet[2]\n",
        "  return multiplier/divider\n",
        "\n"
      ],
      "execution_count": null,
      "outputs": []
    },
    {
      "cell_type": "markdown",
      "metadata": {
        "id": "6YclYlMSd8Ek"
      },
      "source": [
        "MAIN PROGRAM"
      ]
    },
    {
      "cell_type": "code",
      "metadata": {
        "colab": {
          "base_uri": "https://localhost:8080/"
        },
        "id": "SeBL-t9PHFOG",
        "outputId": "8f62bfce-b107-4df8-e45f-313d8e15e74d"
      },
      "source": [
        "hasilAkhir = []\n",
        "for row in range(100):\n",
        "  fuzziPelayanan = fuzzificationService(data['pelayanan'][row])\n",
        "  fuzziMakanan = fuzzificationFood(data['makanan'][row])\n",
        "  inferensi = inference(fuzziPelayanan,fuzziMakanan)\n",
        "  hasilAkhir.extend([defuzzification(inferensi)])\n",
        " \n",
        "hasilAkhir[:5]"
      ],
      "execution_count": null,
      "outputs": [
        {
          "output_type": "execute_result",
          "data": {
            "text/plain": [
              "[80.0, 50.0, 50.0, 50.0, 50.0]"
            ]
          },
          "metadata": {
            "tags": []
          },
          "execution_count": 59
        }
      ]
    },
    {
      "cell_type": "code",
      "metadata": {
        "id": "5Z779wb_dGzD",
        "colab": {
          "base_uri": "https://localhost:8080/",
          "height": 355
        },
        "outputId": "02bb38ac-21e3-4194-9545-cbc6fd357310"
      },
      "source": [
        "hasilAkhir = []\n",
        "for row in range(100):\n",
        "  fuzziPelayanan = fuzzificationService(data['pelayanan'][row])\n",
        "  fuzziMakanan = fuzzificationFood(data['makanan'][row])\n",
        "  inferensi = inference(fuzziPelayanan,fuzziMakanan)\n",
        "  hasilAkhir.extend([defuzzification(inferensi)])\n",
        " \n",
        "data['hasil'] = hasilAkhir\n",
        "data = data.sort_values(by=['hasil','makanan','pelayanan'], ascending=False)[:10]\n",
        "data['id'].to_excel('peringkat.xls', index=True, header=False)\n",
        "\n",
        "data"
      ],
      "execution_count": null,
      "outputs": [
        {
          "output_type": "execute_result",
          "data": {
            "text/html": [
              "<div>\n",
              "<style scoped>\n",
              "    .dataframe tbody tr th:only-of-type {\n",
              "        vertical-align: middle;\n",
              "    }\n",
              "\n",
              "    .dataframe tbody tr th {\n",
              "        vertical-align: top;\n",
              "    }\n",
              "\n",
              "    .dataframe thead th {\n",
              "        text-align: right;\n",
              "    }\n",
              "</style>\n",
              "<table border=\"1\" class=\"dataframe\">\n",
              "  <thead>\n",
              "    <tr style=\"text-align: right;\">\n",
              "      <th></th>\n",
              "      <th>id</th>\n",
              "      <th>pelayanan</th>\n",
              "      <th>makanan</th>\n",
              "      <th>hasil</th>\n",
              "    </tr>\n",
              "  </thead>\n",
              "  <tbody>\n",
              "    <tr>\n",
              "      <th>41</th>\n",
              "      <td>42</td>\n",
              "      <td>94</td>\n",
              "      <td>10</td>\n",
              "      <td>100.0</td>\n",
              "    </tr>\n",
              "    <tr>\n",
              "      <th>68</th>\n",
              "      <td>69</td>\n",
              "      <td>86</td>\n",
              "      <td>10</td>\n",
              "      <td>100.0</td>\n",
              "    </tr>\n",
              "    <tr>\n",
              "      <th>53</th>\n",
              "      <td>54</td>\n",
              "      <td>64</td>\n",
              "      <td>10</td>\n",
              "      <td>100.0</td>\n",
              "    </tr>\n",
              "    <tr>\n",
              "      <th>24</th>\n",
              "      <td>25</td>\n",
              "      <td>61</td>\n",
              "      <td>10</td>\n",
              "      <td>100.0</td>\n",
              "    </tr>\n",
              "    <tr>\n",
              "      <th>5</th>\n",
              "      <td>6</td>\n",
              "      <td>59</td>\n",
              "      <td>10</td>\n",
              "      <td>100.0</td>\n",
              "    </tr>\n",
              "    <tr>\n",
              "      <th>23</th>\n",
              "      <td>24</td>\n",
              "      <td>100</td>\n",
              "      <td>9</td>\n",
              "      <td>100.0</td>\n",
              "    </tr>\n",
              "    <tr>\n",
              "      <th>78</th>\n",
              "      <td>79</td>\n",
              "      <td>87</td>\n",
              "      <td>9</td>\n",
              "      <td>100.0</td>\n",
              "    </tr>\n",
              "    <tr>\n",
              "      <th>21</th>\n",
              "      <td>22</td>\n",
              "      <td>79</td>\n",
              "      <td>9</td>\n",
              "      <td>100.0</td>\n",
              "    </tr>\n",
              "    <tr>\n",
              "      <th>30</th>\n",
              "      <td>31</td>\n",
              "      <td>74</td>\n",
              "      <td>9</td>\n",
              "      <td>100.0</td>\n",
              "    </tr>\n",
              "    <tr>\n",
              "      <th>69</th>\n",
              "      <td>70</td>\n",
              "      <td>78</td>\n",
              "      <td>8</td>\n",
              "      <td>100.0</td>\n",
              "    </tr>\n",
              "  </tbody>\n",
              "</table>\n",
              "</div>"
            ],
            "text/plain": [
              "    id  pelayanan  makanan  hasil\n",
              "41  42         94       10  100.0\n",
              "68  69         86       10  100.0\n",
              "53  54         64       10  100.0\n",
              "24  25         61       10  100.0\n",
              "5    6         59       10  100.0\n",
              "23  24        100        9  100.0\n",
              "78  79         87        9  100.0\n",
              "21  22         79        9  100.0\n",
              "30  31         74        9  100.0\n",
              "69  70         78        8  100.0"
            ]
          },
          "metadata": {
            "tags": []
          },
          "execution_count": 60
        }
      ]
    }
  ]
}